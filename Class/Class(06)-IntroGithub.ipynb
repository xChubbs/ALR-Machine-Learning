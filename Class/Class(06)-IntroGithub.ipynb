{
 "cells": [
  {
   "cell_type": "markdown",
   "metadata": {},
   "source": [
    "# Introducción a Github & DS Ecosystem"
   ]
  },
  {
   "cell_type": "markdown",
   "metadata": {},
   "source": [
    "## Branching\n",
    "Se recomienda para el manejo de un programa, el uso de branching, en especial para una branch `main` se considera mantener las versiones estables deseadas, y en las branchs auxiliares, el uso de features experimentales o cambios significativos a estos"
   ]
  },
  {
   "cell_type": "markdown",
   "metadata": {},
   "source": [
    "## Numpy\n",
    "\n",
    "- Recomendación, revisar notebooks que introducen la libreria\n",
    "\n",
    "Libreria básica para computación cientifica, que incluye elementos básicos como `ndarray`, y ayuda a python, que es dinamicamente tipado, funcionar como un wrapper para objetos que corren por debajo en otros lenguajes como `java`, `C`, `C++`, entre otros.\n",
    "\n",
    "Este elemento de `ndarray` consiste en tensores de orden `n`, que numpy dictamina la forma en que interactuan, y permita amigablemente con la sintaxis de python, interactuar con estos.\n",
    "\n",
    "*Esta es nuestra calculadora cientifica*"
   ]
  },
  {
   "cell_type": "markdown",
   "metadata": {},
   "source": [
    "## Pandas\n",
    "\n",
    "- Recomendación, revisar notebooks que introducen la libreria\n",
    "\n",
    "Esta libreria es la principal encargada de manipulación de datos **Tabulados**, empleando objetos como `Series`, que permite generar indices para datos de mismo tipo *(Imaginemos que es similar a un `ndarray` pero serializado, un hash e tiempo real)*, por otro lado tenemos los `DataFrame` que permite tener tipos de datos por columna, podemos pensarlo como una recolección de series que contienen series.\n"
   ]
  },
  {
   "cell_type": "markdown",
   "metadata": {},
   "source": [
    "## Seaborn: Matplotlib\n",
    "\n",
    "- Tambien se reconoce como `Pandas Profiling`.\n",
    "\n",
    "Enfocada y generada como una libreria de Visualización de Datos, a diferencia de `Matplotlib` esta ha sido creada para la vista de datos y generación formal de representación de datos."
   ]
  },
  {
   "cell_type": "markdown",
   "metadata": {},
   "source": [
    "### **Notas: Ideas para revisar**\n",
    "- Revisar libro: *Python Data-Science Handbok*, para revisar uso de librerias e integración a librerias para Data-Science"
   ]
  },
  {
   "cell_type": "markdown",
   "metadata": {},
   "source": [
    "## Sci-kit learn\n",
    "\n",
    "- Ideas básicas del uso de scikitlearn\n",
    "\n"
   ]
  }
 ],
 "metadata": {
  "language_info": {
   "name": "python"
  },
  "orig_nbformat": 4
 },
 "nbformat": 4,
 "nbformat_minor": 2
}
